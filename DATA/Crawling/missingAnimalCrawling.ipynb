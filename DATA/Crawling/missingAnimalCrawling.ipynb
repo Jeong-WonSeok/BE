{
  "nbformat": 4,
  "nbformat_minor": 0,
  "metadata": {
    "colab": {
      "provenance": [],
      "collapsed_sections": []
    },
    "kernelspec": {
      "name": "python3",
      "display_name": "Python 3"
    },
    "language_info": {
      "name": "python"
    },
    "gpuClass": "standard"
  },
  "cells": [
    {
      "cell_type": "code",
      "source": [
        "!pip install selenium\n",
        "!apt-get update\n",
        "!apt install chromium-chromedriver\n",
        "!cp /usr/lib/chromium-browser/chromedriver /usr/bin\n",
        "\n",
        "import sys\n",
        "sys.path.insert(0, '/usr/lib/chromium-browser/chromedriver')\n"
      ],
      "metadata": {
        "colab": {
          "base_uri": "https://localhost:8080/"
        },
        "id": "9f0A-e0hvvPS",
        "outputId": "13204bc0-44e9-42bb-f8cf-d75df60b4c1f"
      },
      "execution_count": null,
      "outputs": [
        {
          "output_type": "stream",
          "name": "stdout",
          "text": [
            "Looking in indexes: https://pypi.org/simple, https://us-python.pkg.dev/colab-wheels/public/simple/\n",
            "Requirement already satisfied: selenium in /usr/local/lib/python3.7/dist-packages (4.4.3)\n",
            "Requirement already satisfied: urllib3[socks]~=1.26 in /usr/local/lib/python3.7/dist-packages (from selenium) (1.26.12)\n",
            "Requirement already satisfied: certifi>=2021.10.8 in /usr/local/lib/python3.7/dist-packages (from selenium) (2022.6.15)\n",
            "Requirement already satisfied: trio-websocket~=0.9 in /usr/local/lib/python3.7/dist-packages (from selenium) (0.9.2)\n",
            "Requirement already satisfied: trio~=0.17 in /usr/local/lib/python3.7/dist-packages (from selenium) (0.21.0)\n",
            "Requirement already satisfied: async-generator>=1.9 in /usr/local/lib/python3.7/dist-packages (from trio~=0.17->selenium) (1.10)\n",
            "Requirement already satisfied: sortedcontainers in /usr/local/lib/python3.7/dist-packages (from trio~=0.17->selenium) (2.4.0)\n",
            "Requirement already satisfied: attrs>=19.2.0 in /usr/local/lib/python3.7/dist-packages (from trio~=0.17->selenium) (22.1.0)\n",
            "Requirement already satisfied: outcome in /usr/local/lib/python3.7/dist-packages (from trio~=0.17->selenium) (1.2.0)\n",
            "Requirement already satisfied: sniffio in /usr/local/lib/python3.7/dist-packages (from trio~=0.17->selenium) (1.3.0)\n",
            "Requirement already satisfied: idna in /usr/local/lib/python3.7/dist-packages (from trio~=0.17->selenium) (2.10)\n",
            "Requirement already satisfied: wsproto>=0.14 in /usr/local/lib/python3.7/dist-packages (from trio-websocket~=0.9->selenium) (1.2.0)\n",
            "Requirement already satisfied: PySocks!=1.5.7,<2.0,>=1.5.6 in /usr/local/lib/python3.7/dist-packages (from urllib3[socks]~=1.26->selenium) (1.7.1)\n",
            "Requirement already satisfied: h11<1,>=0.9.0 in /usr/local/lib/python3.7/dist-packages (from wsproto>=0.14->trio-websocket~=0.9->selenium) (0.13.0)\n",
            "Requirement already satisfied: typing-extensions in /usr/local/lib/python3.7/dist-packages (from h11<1,>=0.9.0->wsproto>=0.14->trio-websocket~=0.9->selenium) (4.1.1)\n",
            "Hit:1 http://archive.ubuntu.com/ubuntu bionic InRelease\n",
            "Get:2 http://archive.ubuntu.com/ubuntu bionic-updates InRelease [88.7 kB]\n",
            "Get:3 https://cloud.r-project.org/bin/linux/ubuntu bionic-cran40/ InRelease [3,626 B]\n",
            "Get:4 http://security.ubuntu.com/ubuntu bionic-security InRelease [88.7 kB]\n",
            "Ign:5 https://developer.download.nvidia.com/compute/machine-learning/repos/ubuntu1804/x86_64  InRelease\n",
            "Get:6 http://ppa.launchpad.net/c2d4u.team/c2d4u4.0+/ubuntu bionic InRelease [15.9 kB]\n",
            "Hit:7 https://developer.download.nvidia.com/compute/cuda/repos/ubuntu1804/x86_64  InRelease\n",
            "Get:8 http://archive.ubuntu.com/ubuntu bionic-backports InRelease [74.6 kB]\n",
            "Hit:9 https://developer.download.nvidia.com/compute/machine-learning/repos/ubuntu1804/x86_64  Release\n",
            "Hit:10 http://ppa.launchpad.net/cran/libgit2/ubuntu bionic InRelease\n",
            "Hit:11 http://ppa.launchpad.net/deadsnakes/ppa/ubuntu bionic InRelease\n",
            "Hit:12 http://ppa.launchpad.net/graphics-drivers/ppa/ubuntu bionic InRelease\n",
            "Get:13 http://archive.ubuntu.com/ubuntu bionic-updates/main amd64 Packages [3,397 kB]\n",
            "Get:15 http://ppa.launchpad.net/c2d4u.team/c2d4u4.0+/ubuntu bionic/main Sources [2,105 kB]\n",
            "Get:16 http://ppa.launchpad.net/c2d4u.team/c2d4u4.0+/ubuntu bionic/main amd64 Packages [1,079 kB]\n",
            "Fetched 6,853 kB in 6s (1,230 kB/s)\n",
            "Reading package lists... Done\n",
            "Reading package lists... Done\n",
            "Building dependency tree       \n",
            "Reading state information... Done\n",
            "chromium-chromedriver is already the newest version (104.0.5112.101-0ubuntu0.18.04.1).\n",
            "The following package was automatically installed and is no longer required:\n",
            "  libnvidia-common-460\n",
            "Use 'apt autoremove' to remove it.\n",
            "0 upgraded, 0 newly installed, 0 to remove and 56 not upgraded.\n",
            "cp: '/usr/lib/chromium-browser/chromedriver' and '/usr/bin/chromedriver' are the same file\n"
          ]
        }
      ]
    },
    {
      "cell_type": "code",
      "source": [
        "import time\n",
        "import pandas as pd\n",
        "from selenium import webdriver\n",
        "from selenium.webdriver.common.by import By\n",
        "from selenium.common.exceptions import NoSuchElementException\n",
        "\n",
        "chrome_options = webdriver.ChromeOptions()\n",
        "chrome_options.add_argument('--headless')\n",
        "chrome_options.add_argument('--no-sandbox')\n",
        "chrome_options.add_argument('--disable-dev-shm-usage')\n"
      ],
      "metadata": {
        "id": "ZRvgb5pzEDSC"
      },
      "execution_count": null,
      "outputs": []
    },
    {
      "cell_type": "markdown",
      "source": [
        "## `news_scraping()` : 뉴스 스크래핑 함수"
      ],
      "metadata": {
        "id": "YsikGYj5FMoJ"
      }
    },
    {
      "cell_type": "code",
      "source": [
        "def news_scraping(news_url, wd):\n",
        "\n",
        "  press = wd.find_element(By.XPATH, '//*[@id=\"ct\"]/div[1]/div[1]/a/img[1]').get_attribute('title')\n",
        "  title = wd.find_element(By.XPATH, '//*[@id=\"ct\"]/div[1]/div[2]/h2').text\n",
        "  datetime = wd.find_element(By.XPATH,'//*[@id=\"ct\"]/div[1]/div[3]/div[1]/div[1]/span').text\n",
        "  article = wd.find_element(By.XPATH,'//*[@id=\"dic_area\"]').text\n",
        "  article = article.replace(\"\\n\", \"\")\n",
        "  article = article.replace(\"\\t\", \"\")\n",
        "\n",
        "  useful = wd.find_element(By.XPATH, '//*[@id=\"likeItCountViewDiv\"]/ul/li[1]/a/span[2]').text\n",
        "  wow = wd.find_element(By.XPATH, '//*[@id=\"likeItCountViewDiv\"]/ul/li[2]/a/span[2]').text\n",
        "  touched = wd.find_element(By.XPATH, '//*[@id=\"likeItCountViewDiv\"]/ul/li[3]/a/span[2]').text\n",
        "  analytical = wd.find_element(By.XPATH, '//*[@id=\"likeItCountViewDiv\"]/ul/li[4]/a/span[2]').text\n",
        "  recommend = wd.find_element(By.XPATH, '//*[@id=\"likeItCountViewDiv\"]/ul/li[5]/a/span[2]').text\n",
        "  try:\n",
        "    recommend1 = wd.find_element(By.XPATH, '//*[@id=\"likeItCountViewDiv\"]/ul/li[6]/a/span[2]').text\n",
        "  except:  \n",
        "    print(\"recommend : \")\n",
        "\n",
        "  print(\"뉴스:\", [title, press, datetime, article, useful, wow, touched, analytical, recommend, news_url])\n",
        "\n",
        "  return [title, press, datetime, article, useful, wow, touched, analytical, recommend, news_url]"
      ],
      "metadata": {
        "id": "zbSev2gHFU9t"
      },
      "execution_count": null,
      "outputs": []
    },
    {
      "cell_type": "markdown",
      "source": [
        "## `comments_scraping`: 뉴스 댓글 스크래핑"
      ],
      "metadata": {
        "id": "loZgAcQRQ15d"
      }
    },
    {
      "cell_type": "code",
      "source": [
        "def comments_scraping(news_url, wd):\n",
        "\n",
        "  try:\n",
        "    btn_view = wd.find_element(By.CLASS_NAME, 'u_cbox_btn_view_comment').click()\n",
        "    print(\"[댓글 더보기]\", end=\"\")\n",
        "    time.sleep(1)\n",
        "\n",
        "    wd.find_element(By.CLASS_NAME, 'u_cbox_btn_more').click()\n",
        "    print(\"[더보기]\", end=\"\")\n",
        "    time.sleep(1)\n",
        "  except:\n",
        "    pass\n",
        "  \n",
        "  \n"
      ],
      "metadata": {
        "id": "KUlyDcG4Q8Cc"
      },
      "execution_count": null,
      "outputs": []
    },
    {
      "cell_type": "markdown",
      "source": [
        "## `scraping()` : 스크래핑 함수"
      ],
      "metadata": {
        "id": "PFlqBGBnFFJM"
      }
    },
    {
      "cell_type": "code",
      "source": [
        "def scraping():\n",
        "  wd = webdriver.Chrome('chromedriver', options= chrome_options)\n",
        "  wd.implicitly_wait(3)\n",
        "\n",
        "  news_idx = 0\n",
        "  news_df = pd.DataFrame(columns=(\"Title\", \"Press\", \"DateTime\", \"Article\", \"Useful\", \"Wow\", \"Touched\", \"Analytical\", \"Recommend\", \"News_Url\"))\n",
        "\n",
        "  news_url = 'https://n.news.naver.com/mnews/article/025/0003223485?sid=102'\n",
        "  wd.get(news_url)\n",
        "\n",
        "  news_df.loc[news_idx] = news_scraping(news_url, wd)\n",
        "  news_idx += 1\n",
        "\n",
        "  comments_scraping(news_url)\n",
        "\n",
        "  wd.close()\n",
        "\n",
        "  return news_df\n"
      ],
      "metadata": {
        "id": "u9YjkQtJEaqe"
      },
      "execution_count": null,
      "outputs": []
    },
    {
      "cell_type": "code",
      "source": [
        "news_df = scraping()"
      ],
      "metadata": {
        "colab": {
          "base_uri": "https://localhost:8080/"
        },
        "id": "ViYDS8poEnSg",
        "outputId": "92ecee71-217d-4fd3-d3ed-bd0997d83f98"
      },
      "execution_count": null,
      "outputs": [
        {
          "output_type": "stream",
          "name": "stdout",
          "text": [
            "recommend : \n",
            "뉴스: ['경찰, 성남FC 의혹 이재명에 ‘뇌물 혐의’ 검찰 송치', '중앙일보', '2022.09.14. 오전 12:31', '더불어민주당 이재명 대표(왼쪽)와 김태년 민생경제위기대책위원회 위원장이 13일 서울 여의도 국회에서 열린 민생경제위기대책위원회 출범식 및 기자간담회에서 대화하고 있다. 김경록 기자‘성남FC 후원금 의혹’을 수사해 온 경기남부경찰청(이하 경기남부청)이 이재명 더불어민주당 대표에게 제3자 뇌물제공 혐의가 인정된다는 보완수사 결과를 13일 검찰에 통보했다. 지난해 9월 경기도 분당경찰서가 내렸던 불송치 결정을 뒤집은 것이다. 경기남부청은 두산건설이 성남FC에 낸 50억원대 후원금이 성남시가 분당구 정자동 토지의 용도를 변경해 준 것의 대가라고 판단했다.경기남부청 반부패·경제범죄수사대는 이날 보완수사 결과를 검찰에 통보하고, 당시 주도적으로 실무를 담당한 성남시 공무원 1명도 같은 혐의의 공동정범으로 입건해 검찰에 송치했다. 당시 두산건설 대표이사 이모씨에 대해선 형법상 뇌물공여 혐의를 적용해 검찰에 넘겼다.이 대표가 성남시장으로 재직하던 시절 이 대표가 구단주이던 성남FC는 2014~2016년 두산건설에서 56억3000만원의 광고 후원금을 유치했고, 성남시는 2015년 7월 두산그룹이 소유한 분당구 정자동 병원 부지 3000여 평을 상업용지로 용도변경을 해줬다. 용적률과 건축 규모, 연면적 등을 3배가량 늘려주고 전체 부지의 10%를 기부채납받는 조건이었다. 경찰은 이 두 가지 행위가 대가 관계에 있다고 파악한 것이다. 두산이 1991년 72억원에 샀던 이 부지의 현재 평가가치는 1조원 이상인 것으로 알려져 있다.경찰의 수사는 2018년 6월 지방선거 과정에서 바른미래당이 “성남시가 용지 변경으로 두산 측에 막대한 이익을 줬다”며 고발장을 제출하면서 시작됐다. 의혹이 불거지자 성남시와 두산건설은 대가성을 부인했다. 이 대표도 지난해 8월 자신의 페이스북에 “성남시 소유인 성남FC가 용도변경 조건으로 광고비를 받았다고 가정해도 시민의 이익이 된다”며 “개인적 이득을 취한 적이 없다”고 주장했다.이 사건을 처음 수사한 분당경찰서는 지난해 9월 ‘증거불충분’을 이유로 이 사건에 대해 불송치 결정을 내렸다. 그러자 고발인들은 이의신청서를 제출했고, 수원지검 성남지청에선 이 사건 보완수사 여부를 두고 내홍이 발생했다. 박은정(50·사법연수원 29기) 전 성남지청장이 보완수사를 하겠다는 수사팀과 갈등을 빚었다. 당시 박하영 차장검사는 사표를 던졌다.그러자 수원지검은 지난 2월 성남지청에 보완수사를 지시했고, 이에 따라 분당경찰서가 다시 수사하던 사건을 지난 7월 경기남부청 반부패·경제범죄수사대가 넘겨받았다.관심은 경찰이 어떤 증거를 새로 추가했느냐에 쏠리고 있다. 제3자 뇌물죄는 직무에 관해 부정한 청탁을 받은 공무원이 청탁을 들어주는 대가로 제3자에게 뇌물을 제공하도록 했을 때 성립할 수 있는 범죄다. 법원은 국정농단 사건에선 대기업들이 최순실씨에게 제공한 돈을 박근혜 전 대통령에게 한 청탁의 대가로 인정했지만, 과거 큐레이터 신정아씨에게 전달된 기업들의 후원금에 대해선 기업의 정상적인 비영리 활동의 일환이라고 판단했다.경찰은 성남시와 두산건설이 정자동 땅의 용도변경 논의 과정에서 기부채납 면적을 15%에서 10%로 줄이는 대신 50억원 상당의 성남FC 광고 후원금 제공을 약속한 것으로 보고 있다. 기부채납 대상 토지의 가치를 현금 등 금전으로 환산해 제공받은 것 자체가 불법이라는 것이다.경찰 관계자는 “보완수사에서 관계자들을 다시 조사하는 과정에서 진술의 변화가 있었고, 임의수사와 강제수사를 통해 확보한 자료를 검토하고 여러 판례 등을 분석해 이런 결과를 냈다”고 말했다.', '3', '1', '153', '1', '6', 'https://n.news.naver.com/mnews/article/025/0003223485?sid=102']\n"
          ]
        }
      ]
    },
    {
      "cell_type": "code",
      "source": [
        "news_df"
      ],
      "metadata": {
        "colab": {
          "base_uri": "https://localhost:8080/",
          "height": 142
        },
        "id": "uD9P8_bkJeE-",
        "outputId": "5389e61d-4b8f-4215-93ee-062631f4c104"
      },
      "execution_count": null,
      "outputs": [
        {
          "output_type": "execute_result",
          "data": {
            "text/plain": [
              "                            Title Press              DateTime  \\\n",
              "0  경찰, 성남FC 의혹 이재명에 ‘뇌물 혐의’ 검찰 송치  중앙일보  2022.09.14. 오전 12:31   \n",
              "\n",
              "                                             Article Useful Wow Touched  \\\n",
              "0  더불어민주당 이재명 대표(왼쪽)와 김태년 민생경제위기대책위원회 위원장이 13일 서울...      0   0       0   \n",
              "\n",
              "  Analytical Recommend                                           News_Url  \n",
              "0          0         0  https://n.news.naver.com/mnews/article/025/000...  "
            ],
            "text/html": [
              "\n",
              "  <div id=\"df-af04bf27-d714-424b-ae7c-14e7524bd346\">\n",
              "    <div class=\"colab-df-container\">\n",
              "      <div>\n",
              "<style scoped>\n",
              "    .dataframe tbody tr th:only-of-type {\n",
              "        vertical-align: middle;\n",
              "    }\n",
              "\n",
              "    .dataframe tbody tr th {\n",
              "        vertical-align: top;\n",
              "    }\n",
              "\n",
              "    .dataframe thead th {\n",
              "        text-align: right;\n",
              "    }\n",
              "</style>\n",
              "<table border=\"1\" class=\"dataframe\">\n",
              "  <thead>\n",
              "    <tr style=\"text-align: right;\">\n",
              "      <th></th>\n",
              "      <th>Title</th>\n",
              "      <th>Press</th>\n",
              "      <th>DateTime</th>\n",
              "      <th>Article</th>\n",
              "      <th>Useful</th>\n",
              "      <th>Wow</th>\n",
              "      <th>Touched</th>\n",
              "      <th>Analytical</th>\n",
              "      <th>Recommend</th>\n",
              "      <th>News_Url</th>\n",
              "    </tr>\n",
              "  </thead>\n",
              "  <tbody>\n",
              "    <tr>\n",
              "      <th>0</th>\n",
              "      <td>경찰, 성남FC 의혹 이재명에 ‘뇌물 혐의’ 검찰 송치</td>\n",
              "      <td>중앙일보</td>\n",
              "      <td>2022.09.14. 오전 12:31</td>\n",
              "      <td>더불어민주당 이재명 대표(왼쪽)와 김태년 민생경제위기대책위원회 위원장이 13일 서울...</td>\n",
              "      <td>0</td>\n",
              "      <td>0</td>\n",
              "      <td>0</td>\n",
              "      <td>0</td>\n",
              "      <td>0</td>\n",
              "      <td>https://n.news.naver.com/mnews/article/025/000...</td>\n",
              "    </tr>\n",
              "  </tbody>\n",
              "</table>\n",
              "</div>\n",
              "      <button class=\"colab-df-convert\" onclick=\"convertToInteractive('df-af04bf27-d714-424b-ae7c-14e7524bd346')\"\n",
              "              title=\"Convert this dataframe to an interactive table.\"\n",
              "              style=\"display:none;\">\n",
              "        \n",
              "  <svg xmlns=\"http://www.w3.org/2000/svg\" height=\"24px\"viewBox=\"0 0 24 24\"\n",
              "       width=\"24px\">\n",
              "    <path d=\"M0 0h24v24H0V0z\" fill=\"none\"/>\n",
              "    <path d=\"M18.56 5.44l.94 2.06.94-2.06 2.06-.94-2.06-.94-.94-2.06-.94 2.06-2.06.94zm-11 1L8.5 8.5l.94-2.06 2.06-.94-2.06-.94L8.5 2.5l-.94 2.06-2.06.94zm10 10l.94 2.06.94-2.06 2.06-.94-2.06-.94-.94-2.06-.94 2.06-2.06.94z\"/><path d=\"M17.41 7.96l-1.37-1.37c-.4-.4-.92-.59-1.43-.59-.52 0-1.04.2-1.43.59L10.3 9.45l-7.72 7.72c-.78.78-.78 2.05 0 2.83L4 21.41c.39.39.9.59 1.41.59.51 0 1.02-.2 1.41-.59l7.78-7.78 2.81-2.81c.8-.78.8-2.07 0-2.86zM5.41 20L4 18.59l7.72-7.72 1.47 1.35L5.41 20z\"/>\n",
              "  </svg>\n",
              "      </button>\n",
              "      \n",
              "  <style>\n",
              "    .colab-df-container {\n",
              "      display:flex;\n",
              "      flex-wrap:wrap;\n",
              "      gap: 12px;\n",
              "    }\n",
              "\n",
              "    .colab-df-convert {\n",
              "      background-color: #E8F0FE;\n",
              "      border: none;\n",
              "      border-radius: 50%;\n",
              "      cursor: pointer;\n",
              "      display: none;\n",
              "      fill: #1967D2;\n",
              "      height: 32px;\n",
              "      padding: 0 0 0 0;\n",
              "      width: 32px;\n",
              "    }\n",
              "\n",
              "    .colab-df-convert:hover {\n",
              "      background-color: #E2EBFA;\n",
              "      box-shadow: 0px 1px 2px rgba(60, 64, 67, 0.3), 0px 1px 3px 1px rgba(60, 64, 67, 0.15);\n",
              "      fill: #174EA6;\n",
              "    }\n",
              "\n",
              "    [theme=dark] .colab-df-convert {\n",
              "      background-color: #3B4455;\n",
              "      fill: #D2E3FC;\n",
              "    }\n",
              "\n",
              "    [theme=dark] .colab-df-convert:hover {\n",
              "      background-color: #434B5C;\n",
              "      box-shadow: 0px 1px 3px 1px rgba(0, 0, 0, 0.15);\n",
              "      filter: drop-shadow(0px 1px 2px rgba(0, 0, 0, 0.3));\n",
              "      fill: #FFFFFF;\n",
              "    }\n",
              "  </style>\n",
              "\n",
              "      <script>\n",
              "        const buttonEl =\n",
              "          document.querySelector('#df-af04bf27-d714-424b-ae7c-14e7524bd346 button.colab-df-convert');\n",
              "        buttonEl.style.display =\n",
              "          google.colab.kernel.accessAllowed ? 'block' : 'none';\n",
              "\n",
              "        async function convertToInteractive(key) {\n",
              "          const element = document.querySelector('#df-af04bf27-d714-424b-ae7c-14e7524bd346');\n",
              "          const dataTable =\n",
              "            await google.colab.kernel.invokeFunction('convertToInteractive',\n",
              "                                                     [key], {});\n",
              "          if (!dataTable) return;\n",
              "\n",
              "          const docLinkHtml = 'Like what you see? Visit the ' +\n",
              "            '<a target=\"_blank\" href=https://colab.research.google.com/notebooks/data_table.ipynb>data table notebook</a>'\n",
              "            + ' to learn more about interactive tables.';\n",
              "          element.innerHTML = '';\n",
              "          dataTable['output_type'] = 'display_data';\n",
              "          await google.colab.output.renderOutput(dataTable, element);\n",
              "          const docLink = document.createElement('div');\n",
              "          docLink.innerHTML = docLinkHtml;\n",
              "          element.appendChild(docLink);\n",
              "        }\n",
              "      </script>\n",
              "    </div>\n",
              "  </div>\n",
              "  "
            ]
          },
          "metadata": {},
          "execution_count": 19
        }
      ]
    },
    {
      "cell_type": "code",
      "source": [],
      "metadata": {
        "id": "ZCT0OR2kJe_a"
      },
      "execution_count": null,
      "outputs": []
    },
    {
      "cell_type": "markdown",
      "source": [
        "# `실종동물 스크래핑`"
      ],
      "metadata": {
        "id": "1qpV72AkVuaq"
      }
    },
    {
      "cell_type": "markdown",
      "source": [
        "### [긴급] 실종 동물 스크래핑"
      ],
      "metadata": {
        "id": "OkliPHsbWrvv"
      }
    },
    {
      "cell_type": "code",
      "source": [
        "def emergency_scraping(animal_url, wd):\n",
        "  try:\n",
        "    emergency_animals = []\n",
        "\n",
        "    for t in range(1, 100):\n",
        "      for i in range(1, 4):\n",
        "        emergency_url = wd.find_element(By.XPATH, '/html/body/div[4]/div/div/div/div[%d]/div[1]/div[%d]/div/a' %(t,i) ).get_attribute('href')\n",
        "        emergency_animals.append(emergency_url)\n",
        "\n",
        "        \n",
        "  except:\n",
        "    pass\n",
        "  return emergency_animals\n"
      ],
      "metadata": {
        "id": "zgcnkgfvWqsT"
      },
      "execution_count": null,
      "outputs": []
    },
    {
      "cell_type": "markdown",
      "source": [
        "## [실종] 실종 동물 스크래핑"
      ],
      "metadata": {
        "id": "DbtiG0-j-2B7"
      }
    },
    {
      "cell_type": "code",
      "source": [
        "def missing_animals_url(animal_url, wd):\n",
        "  try: \n",
        "    missing_animals= []\n",
        "    totalpages = wd.find_element(By.XPATH, '/html/body/div[6]/div/div/div/p').text\n",
        "    page = totalpages.split(\" \")\n",
        "    last = int(page[6]) + 1\n",
        "    for p in range(1, last):\n",
        "      print('check')\n",
        "      t = 0\n",
        "      i = 0\n",
        "      for t in range(1, 5):\n",
        "        for i in range(1, 5):\n",
        "          missing = wd.find_element(By.XPATH, '/html/body/div[5]/div/div/div/div[%d]/div[1]/div[%d]/h3' %(t,i) ).text\n",
        "          if(\"실종\" in missing):\n",
        "            print(missing)\n",
        "            missing_url = wd.find_element(By.XPATH, '//html/body/div[5]/div/div/div/div[%d]/div[1]/div[%d]/div/a' %(t,i) ).get_attribute('href')\n",
        "            missing_animals.append(missing_url)\n",
        "      nextpage = wd.find_element(By.XPATH, '//*[@id=\"pagination\"]/div/a[5]').click()\n",
        "    \n",
        "  except: \n",
        "    pass\n",
        "\n",
        "\n",
        "  return missing_animals"
      ],
      "metadata": {
        "id": "jDJTaL07-7Ud"
      },
      "execution_count": null,
      "outputs": []
    },
    {
      "cell_type": "markdown",
      "source": [
        "## 실종 동물 상세 정보"
      ],
      "metadata": {
        "id": "qdNm9_UBtO1K"
      }
    },
    {
      "cell_type": "code",
      "source": [
        "def dog_info_scraping(animal_info_url, wd):\n",
        "\n",
        "  animal = wd.find_element(By.XPATH, '/html/body/div[3]/div/div/div/div/table/tbody/tr[1]/td[2]').text\n",
        "  info = animal.split('/')\n",
        "  find = info[len(info)-4]\n",
        "  gender = info[len(info)-3]\n",
        "  age = info[len(info)-2]\n",
        "  name = info[len(info)-1]\n",
        "  missingDay = wd.find_element(By.XPATH, '/html/body/div[3]/div/div/div/div/table/tbody/tr[2]/td[2]').text\n",
        "  location = wd.find_element(By.XPATH, '/html/body/div[3]/div/div/div/div/table/tbody/tr[3]/td[2]').text\n",
        "  description = wd.find_element(By.XPATH, '/html/body/div[3]/div/div/div/div/table/tbody/tr[5]/td[2]').text\n",
        "  description = description.replace(\"\\n\", \" \")\n",
        "  description = description.replace(\"\\t\", \" \")\n",
        "\n",
        "  # 이미지 클릭해 이미지로 이동\n",
        "  img_url = wd.find_element(By.XPATH, '/html/body/div[3]/div/div/div/div/div[3]/div[1]/div[1]/div/a').get_attribute('href')\n",
        "  wd.get(img_url)\n",
        "  img = wd.find_element(By.XPATH, '/html/body/img').get_attribute('src')\n",
        "\n",
        "\n",
        "  return [find, gender, age, name, missingDay, location ,description, img]"
      ],
      "metadata": {
        "id": "h2i6O5UetOZP"
      },
      "execution_count": null,
      "outputs": []
    },
    {
      "cell_type": "markdown",
      "source": [
        "## `URL_스크래핑` : 강아지"
      ],
      "metadata": {
        "id": "5Zqz5ttGV2q9"
      }
    },
    {
      "cell_type": "code",
      "source": [
        "def dog_url_scraping():\n",
        "\n",
        "  wd = webdriver.Chrome('chromedriver', options= chrome_options)\n",
        "  wd.implicitly_wait(3)\n",
        "  \n",
        "  dogs_url = 'http://www.angel.or.kr/index.php?code=dog'\n",
        "  wd.get(dogs_url)\n",
        "  \n",
        "  dogs_df = pd.DataFrame(columns=(\"Find\", \"Gender\", \"Age\", \"Name\", \"MissingDay\", \"Location\", \"Description\", \"IMG\"))\n",
        "\n",
        "  emergency_dogs = emergency_scraping(dogs_url, wd)\n",
        "  \n",
        "  dogs_idx = 0\n",
        "  for dog_url in emergency_dogs:\n",
        "    wd.get(dog_url)\n",
        "    dogs_df.loc[dogs_idx] = dog_info_scraping(dog_url, wd)\n",
        "    dogs_idx += 1\n",
        "\n",
        "  wd.get(dogs_url)\n",
        "  missing_animals_url = []\n",
        "  missing_animals_url.append(missing_animals_url(dogs_url, wd))\n",
        "\n",
        "  return dogs_df\n",
        "  \n"
      ],
      "metadata": {
        "id": "1qwr1t0UVyFY"
      },
      "execution_count": null,
      "outputs": []
    },
    {
      "cell_type": "code",
      "source": [
        "wd = webdriver.Chrome('chromedriver', options= chrome_options)\n",
        "dogs_url = 'http://www.angel.or.kr/index.php?code=dog'\n",
        "wd.get(dogs_url)\n",
        "dog_df = missing_animals_url(dogs_url, wd)"
      ],
      "metadata": {
        "colab": {
          "base_uri": "https://localhost:8080/"
        },
        "id": "AqVbJV8_a9Ng",
        "outputId": "78ba915e-0a06-49e0-c26c-44a88463b612"
      },
      "execution_count": null,
      "outputs": [
        {
          "output_type": "stream",
          "name": "stdout",
          "text": [
            "check\n",
            "(실종)전라북도\n",
            "(실종)충청남도\n",
            "(실종)경기도\n",
            "(실종)제주특별자치도\n",
            "(실종)경기도\n",
            "(실종)대구광역시\n",
            "(실종)경기도\n",
            "(실종)인천광역시\n",
            "(실종)충청남도\n",
            "check\n"
          ]
        }
      ]
    },
    {
      "cell_type": "code",
      "source": [
        "dog_df"
      ],
      "metadata": {
        "colab": {
          "base_uri": "https://localhost:8080/"
        },
        "id": "eemEQgg_5xzZ",
        "outputId": "bf9be4ef-41a3-40a2-d489-45df3697b52d"
      },
      "execution_count": null,
      "outputs": [
        {
          "output_type": "execute_result",
          "data": {
            "text/plain": [
              "['http://www.angel.or.kr/view.php?code=dog&number=48001&page=1&ski=&sci=&sco=&sgu=&q=&style=webzine&listType=',\n",
              " 'http://www.angel.or.kr/view.php?code=dog&number=48000&page=1&ski=&sci=&sco=&sgu=&q=&style=webzine&listType=',\n",
              " 'http://www.angel.or.kr/view.php?code=dog&number=47998&page=1&ski=&sci=&sco=&sgu=&q=&style=webzine&listType=',\n",
              " 'http://www.angel.or.kr/view.php?code=dog&number=47997&page=1&ski=&sci=&sco=&sgu=&q=&style=webzine&listType=',\n",
              " 'http://www.angel.or.kr/view.php?code=dog&number=47995&page=1&ski=&sci=&sco=&sgu=&q=&style=webzine&listType=',\n",
              " 'http://www.angel.or.kr/view.php?code=dog&number=47992&page=1&ski=&sci=&sco=&sgu=&q=&style=webzine&listType=',\n",
              " 'http://www.angel.or.kr/view.php?code=dog&number=47990&page=1&ski=&sci=&sco=&sgu=&q=&style=webzine&listType=',\n",
              " 'http://www.angel.or.kr/view.php?code=dog&number=47988&page=1&ski=&sci=&sco=&sgu=&q=&style=webzine&listType=',\n",
              " 'http://www.angel.or.kr/view.php?code=dog&number=47987&page=1&ski=&sci=&sco=&sgu=&q=&style=webzine&listType=',\n",
              " 'http://www.angel.or.kr/view.php?code=dog&number=47982&page=1&ski=&sci=&sco=&sgu=&q=&style=webzine&listType=']"
            ]
          },
          "metadata": {},
          "execution_count": 106
        }
      ]
    },
    {
      "cell_type": "markdown",
      "source": [
        "## `URL_스크래핑` : 고양이"
      ],
      "metadata": {
        "id": "sbG-dPLkWUMJ"
      }
    },
    {
      "cell_type": "code",
      "source": [
        "def cat_url_scraping():\n",
        "  wd = webdriver.Chrome('chromedriver', options= chrome_options)\n",
        "  wd.implicitly_wait(3)\n",
        "  cats_url = 'http://www.angel.or.kr/index.php?code=cat'\n",
        "  \n",
        "  wd.get(cats_url)\n",
        "\n",
        "  cats_df = pd.DataFrame(columns=(\"Find\", \"Gender\", \"Age\", \"Name\", \"MissingDay\", \"Location\", \"Description\", \"IMG\"))\n",
        "\n",
        "  emergency_cats = emergency_scraping(cats_url, wd)\n",
        "\n",
        "  cats_idx = 0\n",
        "  for cat_url in emergency_cats:\n",
        "    wd.get(cat_url)\n",
        "    cats_df.loc[cats_idx] = dog_info_scraping(cat_url, wd)\n",
        "    cats_idx += 1\n",
        "\n",
        "\n",
        "  return cats_df"
      ],
      "metadata": {
        "id": "VnHYMoLdWUMJ"
      },
      "execution_count": null,
      "outputs": []
    },
    {
      "cell_type": "code",
      "source": [
        "cats_df = cat_url_scraping()"
      ],
      "metadata": {
        "id": "ur06dBQzkaPx"
      },
      "execution_count": null,
      "outputs": []
    },
    {
      "cell_type": "code",
      "source": [
        "cats_df"
      ],
      "metadata": {
        "colab": {
          "base_uri": "https://localhost:8080/",
          "height": 239
        },
        "id": "S2NRtfNI6uHr",
        "outputId": "24e4daf5-a055-4980-8b1e-9564176714dd"
      },
      "execution_count": null,
      "outputs": [
        {
          "output_type": "execute_result",
          "data": {
            "text/plain": [
              "         Find Gender   Age      Name  MissingDay  \\\n",
              "0       벵갈 캣     암컷    6살     이름(버디)   2022-8-26   \n",
              "1  코리아 쇼트 헤어     암컷    2살    이름(김만두)   2022-8-27   \n",
              "2  코리아 쇼트 헤어     암컷    4살    이름(김애용)  2022-08-15   \n",
              "\n",
              "                                Location  \\\n",
              "0                  서울특별시 용산구 유엔빌리지 힐미드빌라   \n",
              "1         인천광역시 계양구 귤현동 굴재길 3-3 현대렉스힐 부근   \n",
              "2  경상북도 구미시 지산동 금오여자고등학교 맞은 편 논 부근 에서 실종   \n",
              "\n",
              "                                         Description  \\\n",
              "0                       4키로 정도 나가고 소심하고 겁이 많습니다 호피무늬   \n",
              "1  삼색 고양이 보는 사람 기준 코 왼쪽에 검정 무늬, 왼쪽 다리 옆에 갈색 무늬, 오...   \n",
              "2  코리안 숏헤어 치즈냥 오른쪽 눈이 없고 얼굴에 아아라인처럼 눈선을 따라 진한 갈색 ...   \n",
              "\n",
              "                                                 IMG  \n",
              "0  http://www.angel.or.kr/report/cat/upImg/166182...  \n",
              "1  http://www.angel.or.kr/report/cat/upImg/166159...  \n",
              "2  http://www.angel.or.kr/report/cat/upImg/166114...  "
            ],
            "text/html": [
              "\n",
              "  <div id=\"df-8c256c48-f9d9-48eb-ae3e-06a9f0970700\">\n",
              "    <div class=\"colab-df-container\">\n",
              "      <div>\n",
              "<style scoped>\n",
              "    .dataframe tbody tr th:only-of-type {\n",
              "        vertical-align: middle;\n",
              "    }\n",
              "\n",
              "    .dataframe tbody tr th {\n",
              "        vertical-align: top;\n",
              "    }\n",
              "\n",
              "    .dataframe thead th {\n",
              "        text-align: right;\n",
              "    }\n",
              "</style>\n",
              "<table border=\"1\" class=\"dataframe\">\n",
              "  <thead>\n",
              "    <tr style=\"text-align: right;\">\n",
              "      <th></th>\n",
              "      <th>Find</th>\n",
              "      <th>Gender</th>\n",
              "      <th>Age</th>\n",
              "      <th>Name</th>\n",
              "      <th>MissingDay</th>\n",
              "      <th>Location</th>\n",
              "      <th>Description</th>\n",
              "      <th>IMG</th>\n",
              "    </tr>\n",
              "  </thead>\n",
              "  <tbody>\n",
              "    <tr>\n",
              "      <th>0</th>\n",
              "      <td>벵갈 캣</td>\n",
              "      <td>암컷</td>\n",
              "      <td>6살</td>\n",
              "      <td>이름(버디)</td>\n",
              "      <td>2022-8-26</td>\n",
              "      <td>서울특별시 용산구 유엔빌리지 힐미드빌라</td>\n",
              "      <td>4키로 정도 나가고 소심하고 겁이 많습니다 호피무늬</td>\n",
              "      <td>http://www.angel.or.kr/report/cat/upImg/166182...</td>\n",
              "    </tr>\n",
              "    <tr>\n",
              "      <th>1</th>\n",
              "      <td>코리아 쇼트 헤어</td>\n",
              "      <td>암컷</td>\n",
              "      <td>2살</td>\n",
              "      <td>이름(김만두)</td>\n",
              "      <td>2022-8-27</td>\n",
              "      <td>인천광역시 계양구 귤현동 굴재길 3-3 현대렉스힐 부근</td>\n",
              "      <td>삼색 고양이 보는 사람 기준 코 왼쪽에 검정 무늬, 왼쪽 다리 옆에 갈색 무늬, 오...</td>\n",
              "      <td>http://www.angel.or.kr/report/cat/upImg/166159...</td>\n",
              "    </tr>\n",
              "    <tr>\n",
              "      <th>2</th>\n",
              "      <td>코리아 쇼트 헤어</td>\n",
              "      <td>암컷</td>\n",
              "      <td>4살</td>\n",
              "      <td>이름(김애용)</td>\n",
              "      <td>2022-08-15</td>\n",
              "      <td>경상북도 구미시 지산동 금오여자고등학교 맞은 편 논 부근 에서 실종</td>\n",
              "      <td>코리안 숏헤어 치즈냥 오른쪽 눈이 없고 얼굴에 아아라인처럼 눈선을 따라 진한 갈색 ...</td>\n",
              "      <td>http://www.angel.or.kr/report/cat/upImg/166114...</td>\n",
              "    </tr>\n",
              "  </tbody>\n",
              "</table>\n",
              "</div>\n",
              "      <button class=\"colab-df-convert\" onclick=\"convertToInteractive('df-8c256c48-f9d9-48eb-ae3e-06a9f0970700')\"\n",
              "              title=\"Convert this dataframe to an interactive table.\"\n",
              "              style=\"display:none;\">\n",
              "        \n",
              "  <svg xmlns=\"http://www.w3.org/2000/svg\" height=\"24px\"viewBox=\"0 0 24 24\"\n",
              "       width=\"24px\">\n",
              "    <path d=\"M0 0h24v24H0V0z\" fill=\"none\"/>\n",
              "    <path d=\"M18.56 5.44l.94 2.06.94-2.06 2.06-.94-2.06-.94-.94-2.06-.94 2.06-2.06.94zm-11 1L8.5 8.5l.94-2.06 2.06-.94-2.06-.94L8.5 2.5l-.94 2.06-2.06.94zm10 10l.94 2.06.94-2.06 2.06-.94-2.06-.94-.94-2.06-.94 2.06-2.06.94z\"/><path d=\"M17.41 7.96l-1.37-1.37c-.4-.4-.92-.59-1.43-.59-.52 0-1.04.2-1.43.59L10.3 9.45l-7.72 7.72c-.78.78-.78 2.05 0 2.83L4 21.41c.39.39.9.59 1.41.59.51 0 1.02-.2 1.41-.59l7.78-7.78 2.81-2.81c.8-.78.8-2.07 0-2.86zM5.41 20L4 18.59l7.72-7.72 1.47 1.35L5.41 20z\"/>\n",
              "  </svg>\n",
              "      </button>\n",
              "      \n",
              "  <style>\n",
              "    .colab-df-container {\n",
              "      display:flex;\n",
              "      flex-wrap:wrap;\n",
              "      gap: 12px;\n",
              "    }\n",
              "\n",
              "    .colab-df-convert {\n",
              "      background-color: #E8F0FE;\n",
              "      border: none;\n",
              "      border-radius: 50%;\n",
              "      cursor: pointer;\n",
              "      display: none;\n",
              "      fill: #1967D2;\n",
              "      height: 32px;\n",
              "      padding: 0 0 0 0;\n",
              "      width: 32px;\n",
              "    }\n",
              "\n",
              "    .colab-df-convert:hover {\n",
              "      background-color: #E2EBFA;\n",
              "      box-shadow: 0px 1px 2px rgba(60, 64, 67, 0.3), 0px 1px 3px 1px rgba(60, 64, 67, 0.15);\n",
              "      fill: #174EA6;\n",
              "    }\n",
              "\n",
              "    [theme=dark] .colab-df-convert {\n",
              "      background-color: #3B4455;\n",
              "      fill: #D2E3FC;\n",
              "    }\n",
              "\n",
              "    [theme=dark] .colab-df-convert:hover {\n",
              "      background-color: #434B5C;\n",
              "      box-shadow: 0px 1px 3px 1px rgba(0, 0, 0, 0.15);\n",
              "      filter: drop-shadow(0px 1px 2px rgba(0, 0, 0, 0.3));\n",
              "      fill: #FFFFFF;\n",
              "    }\n",
              "  </style>\n",
              "\n",
              "      <script>\n",
              "        const buttonEl =\n",
              "          document.querySelector('#df-8c256c48-f9d9-48eb-ae3e-06a9f0970700 button.colab-df-convert');\n",
              "        buttonEl.style.display =\n",
              "          google.colab.kernel.accessAllowed ? 'block' : 'none';\n",
              "\n",
              "        async function convertToInteractive(key) {\n",
              "          const element = document.querySelector('#df-8c256c48-f9d9-48eb-ae3e-06a9f0970700');\n",
              "          const dataTable =\n",
              "            await google.colab.kernel.invokeFunction('convertToInteractive',\n",
              "                                                     [key], {});\n",
              "          if (!dataTable) return;\n",
              "\n",
              "          const docLinkHtml = 'Like what you see? Visit the ' +\n",
              "            '<a target=\"_blank\" href=https://colab.research.google.com/notebooks/data_table.ipynb>data table notebook</a>'\n",
              "            + ' to learn more about interactive tables.';\n",
              "          element.innerHTML = '';\n",
              "          dataTable['output_type'] = 'display_data';\n",
              "          await google.colab.output.renderOutput(dataTable, element);\n",
              "          const docLink = document.createElement('div');\n",
              "          docLink.innerHTML = docLinkHtml;\n",
              "          element.appendChild(docLink);\n",
              "        }\n",
              "      </script>\n",
              "    </div>\n",
              "  </div>\n",
              "  "
            ]
          },
          "metadata": {},
          "execution_count": 58
        }
      ]
    },
    {
      "cell_type": "markdown",
      "source": [
        "## `URL_스크래핑` : 그외 동물"
      ],
      "metadata": {
        "id": "K2wBxpLRWUXD"
      }
    },
    {
      "cell_type": "code",
      "source": [
        "def other_url_scraping():\n",
        "  wd = webdriver.Chrome('chromedriver', options= chrome_options)\n",
        "  wd.implicitly_wait(3)\n",
        "  others_url = 'http://www.angel.or.kr/index.php?code=other'\n",
        "\n",
        "  wd.get(others_url)\n",
        "\n",
        "  emergency_others = emergency_scraping(others_url, wd)\n",
        "\n",
        "  others_df = pd.DataFrame(columns=(\"Find\", \"Gender\", \"Age\", \"Name\", \"MissingDay\", \"Location\", \"Description\", \"IMG\"))\n",
        "\n",
        "  others_idx = 0\n",
        "  for other_url in emergency_others:\n",
        "    wd.get(other_url)\n",
        "    others_df.loc[others_idx] = dog_info_scraping(other_url, wd)\n",
        "    others_idx += 1\n",
        "\n",
        "\n",
        "  return others_df\n"
      ],
      "metadata": {
        "id": "5kowZHyNWUXD"
      },
      "execution_count": null,
      "outputs": []
    },
    {
      "cell_type": "code",
      "source": [
        "others_df = other_url_scraping()"
      ],
      "metadata": {
        "id": "F05f-1TRkgjF"
      },
      "execution_count": null,
      "outputs": []
    },
    {
      "cell_type": "code",
      "source": [
        "others_df"
      ],
      "metadata": {
        "colab": {
          "base_uri": "https://localhost:8080/",
          "height": 239
        },
        "id": "1DEKcorY7AEW",
        "outputId": "c8293b29-ce23-4026-963e-35dd9cf62909"
      },
      "execution_count": null,
      "outputs": [
        {
          "output_type": "execute_result",
          "data": {
            "text/plain": [
              "   Find Gender     Age      Name  MissingDay  \\\n",
              "0  앵무새     암컷      1살    이름(일랑이)   2022-8-22   \n",
              "1  앵무새     암컷      1살    이름(찬송이)   2022-8-12   \n",
              "2  앵무새     수컷    1살미만     이름(산초)  2022-08-04   \n",
              "\n",
              "                                  Location  \\\n",
              "0     대구광역시 수성구 대구 범어동 수성구청역점 서브웨이 뒷쪽 주택단지   \n",
              "1               제주특별자치도 제주시 연동 한라유치원부근 산책로   \n",
              "2  전라북도 군산시 장자도에서 실종. 선유도,무녀도,신시도 발견가능성 높음   \n",
              "\n",
              "                                         Description  \\\n",
              "0  블루 퀘이커 앵무새 비둘기보다 많이 작고 참새보다 커요 윙컷을 안한 상태이고 부리쪽...   \n",
              "1                     초록색퀘이커예요 빵.국수좋아해요 겁이많아서 물수도있어요   \n",
              "2  회색앵무, 발목링을 하고있습니다. 큰소릴 내거나 섣불리 잡으려 마시고 빠른 연락부탁...   \n",
              "\n",
              "                                                 IMG  \n",
              "0  http://www.angel.or.kr/report/other/upImg/1661...  \n",
              "1  http://www.angel.or.kr/report/other/upImg/1660...  \n",
              "2  http://www.angel.or.kr/report/other/upImg/1659...  "
            ],
            "text/html": [
              "\n",
              "  <div id=\"df-f4ca725d-6289-4695-b941-3498651473e0\">\n",
              "    <div class=\"colab-df-container\">\n",
              "      <div>\n",
              "<style scoped>\n",
              "    .dataframe tbody tr th:only-of-type {\n",
              "        vertical-align: middle;\n",
              "    }\n",
              "\n",
              "    .dataframe tbody tr th {\n",
              "        vertical-align: top;\n",
              "    }\n",
              "\n",
              "    .dataframe thead th {\n",
              "        text-align: right;\n",
              "    }\n",
              "</style>\n",
              "<table border=\"1\" class=\"dataframe\">\n",
              "  <thead>\n",
              "    <tr style=\"text-align: right;\">\n",
              "      <th></th>\n",
              "      <th>Find</th>\n",
              "      <th>Gender</th>\n",
              "      <th>Age</th>\n",
              "      <th>Name</th>\n",
              "      <th>MissingDay</th>\n",
              "      <th>Location</th>\n",
              "      <th>Description</th>\n",
              "      <th>IMG</th>\n",
              "    </tr>\n",
              "  </thead>\n",
              "  <tbody>\n",
              "    <tr>\n",
              "      <th>0</th>\n",
              "      <td>앵무새</td>\n",
              "      <td>암컷</td>\n",
              "      <td>1살</td>\n",
              "      <td>이름(일랑이)</td>\n",
              "      <td>2022-8-22</td>\n",
              "      <td>대구광역시 수성구 대구 범어동 수성구청역점 서브웨이 뒷쪽 주택단지</td>\n",
              "      <td>블루 퀘이커 앵무새 비둘기보다 많이 작고 참새보다 커요 윙컷을 안한 상태이고 부리쪽...</td>\n",
              "      <td>http://www.angel.or.kr/report/other/upImg/1661...</td>\n",
              "    </tr>\n",
              "    <tr>\n",
              "      <th>1</th>\n",
              "      <td>앵무새</td>\n",
              "      <td>암컷</td>\n",
              "      <td>1살</td>\n",
              "      <td>이름(찬송이)</td>\n",
              "      <td>2022-8-12</td>\n",
              "      <td>제주특별자치도 제주시 연동 한라유치원부근 산책로</td>\n",
              "      <td>초록색퀘이커예요 빵.국수좋아해요 겁이많아서 물수도있어요</td>\n",
              "      <td>http://www.angel.or.kr/report/other/upImg/1660...</td>\n",
              "    </tr>\n",
              "    <tr>\n",
              "      <th>2</th>\n",
              "      <td>앵무새</td>\n",
              "      <td>수컷</td>\n",
              "      <td>1살미만</td>\n",
              "      <td>이름(산초)</td>\n",
              "      <td>2022-08-04</td>\n",
              "      <td>전라북도 군산시 장자도에서 실종. 선유도,무녀도,신시도 발견가능성 높음</td>\n",
              "      <td>회색앵무, 발목링을 하고있습니다. 큰소릴 내거나 섣불리 잡으려 마시고 빠른 연락부탁...</td>\n",
              "      <td>http://www.angel.or.kr/report/other/upImg/1659...</td>\n",
              "    </tr>\n",
              "  </tbody>\n",
              "</table>\n",
              "</div>\n",
              "      <button class=\"colab-df-convert\" onclick=\"convertToInteractive('df-f4ca725d-6289-4695-b941-3498651473e0')\"\n",
              "              title=\"Convert this dataframe to an interactive table.\"\n",
              "              style=\"display:none;\">\n",
              "        \n",
              "  <svg xmlns=\"http://www.w3.org/2000/svg\" height=\"24px\"viewBox=\"0 0 24 24\"\n",
              "       width=\"24px\">\n",
              "    <path d=\"M0 0h24v24H0V0z\" fill=\"none\"/>\n",
              "    <path d=\"M18.56 5.44l.94 2.06.94-2.06 2.06-.94-2.06-.94-.94-2.06-.94 2.06-2.06.94zm-11 1L8.5 8.5l.94-2.06 2.06-.94-2.06-.94L8.5 2.5l-.94 2.06-2.06.94zm10 10l.94 2.06.94-2.06 2.06-.94-2.06-.94-.94-2.06-.94 2.06-2.06.94z\"/><path d=\"M17.41 7.96l-1.37-1.37c-.4-.4-.92-.59-1.43-.59-.52 0-1.04.2-1.43.59L10.3 9.45l-7.72 7.72c-.78.78-.78 2.05 0 2.83L4 21.41c.39.39.9.59 1.41.59.51 0 1.02-.2 1.41-.59l7.78-7.78 2.81-2.81c.8-.78.8-2.07 0-2.86zM5.41 20L4 18.59l7.72-7.72 1.47 1.35L5.41 20z\"/>\n",
              "  </svg>\n",
              "      </button>\n",
              "      \n",
              "  <style>\n",
              "    .colab-df-container {\n",
              "      display:flex;\n",
              "      flex-wrap:wrap;\n",
              "      gap: 12px;\n",
              "    }\n",
              "\n",
              "    .colab-df-convert {\n",
              "      background-color: #E8F0FE;\n",
              "      border: none;\n",
              "      border-radius: 50%;\n",
              "      cursor: pointer;\n",
              "      display: none;\n",
              "      fill: #1967D2;\n",
              "      height: 32px;\n",
              "      padding: 0 0 0 0;\n",
              "      width: 32px;\n",
              "    }\n",
              "\n",
              "    .colab-df-convert:hover {\n",
              "      background-color: #E2EBFA;\n",
              "      box-shadow: 0px 1px 2px rgba(60, 64, 67, 0.3), 0px 1px 3px 1px rgba(60, 64, 67, 0.15);\n",
              "      fill: #174EA6;\n",
              "    }\n",
              "\n",
              "    [theme=dark] .colab-df-convert {\n",
              "      background-color: #3B4455;\n",
              "      fill: #D2E3FC;\n",
              "    }\n",
              "\n",
              "    [theme=dark] .colab-df-convert:hover {\n",
              "      background-color: #434B5C;\n",
              "      box-shadow: 0px 1px 3px 1px rgba(0, 0, 0, 0.15);\n",
              "      filter: drop-shadow(0px 1px 2px rgba(0, 0, 0, 0.3));\n",
              "      fill: #FFFFFF;\n",
              "    }\n",
              "  </style>\n",
              "\n",
              "      <script>\n",
              "        const buttonEl =\n",
              "          document.querySelector('#df-f4ca725d-6289-4695-b941-3498651473e0 button.colab-df-convert');\n",
              "        buttonEl.style.display =\n",
              "          google.colab.kernel.accessAllowed ? 'block' : 'none';\n",
              "\n",
              "        async function convertToInteractive(key) {\n",
              "          const element = document.querySelector('#df-f4ca725d-6289-4695-b941-3498651473e0');\n",
              "          const dataTable =\n",
              "            await google.colab.kernel.invokeFunction('convertToInteractive',\n",
              "                                                     [key], {});\n",
              "          if (!dataTable) return;\n",
              "\n",
              "          const docLinkHtml = 'Like what you see? Visit the ' +\n",
              "            '<a target=\"_blank\" href=https://colab.research.google.com/notebooks/data_table.ipynb>data table notebook</a>'\n",
              "            + ' to learn more about interactive tables.';\n",
              "          element.innerHTML = '';\n",
              "          dataTable['output_type'] = 'display_data';\n",
              "          await google.colab.output.renderOutput(dataTable, element);\n",
              "          const docLink = document.createElement('div');\n",
              "          docLink.innerHTML = docLinkHtml;\n",
              "          element.appendChild(docLink);\n",
              "        }\n",
              "      </script>\n",
              "    </div>\n",
              "  </div>\n",
              "  "
            ]
          },
          "metadata": {},
          "execution_count": 125
        }
      ]
    },
    {
      "cell_type": "code",
      "source": [],
      "metadata": {
        "id": "hd3E0a5X7BBs"
      },
      "execution_count": null,
      "outputs": []
    }
  ]
}